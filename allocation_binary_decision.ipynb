{
 "cells": [
  {
   "cell_type": "code",
   "execution_count": 1,
   "id": "3b60f21c",
   "metadata": {},
   "outputs": [],
   "source": [
    "import numpy as np\n",
    "from cvxopt import matrix, solvers, log, exp\n",
    "import matplotlib.pyplot as plt\n",
    "\n",
    "from matplotlib import style\n",
    "import matplotlib\n",
    "plt.style.use('ggplot')\n",
    "matplotlib.rcParams.update({\"axes.grid\" : False})\n",
    "\n",
    "from PyomoSolver import PyomoSolver"
   ]
  },
  {
   "cell_type": "markdown",
   "id": "c055c2ad",
   "metadata": {},
   "source": [
    "### set up problem"
   ]
  },
  {
   "cell_type": "code",
   "execution_count": 2,
   "id": "0981d0e2",
   "metadata": {},
   "outputs": [
    {
     "data": {
      "image/png": "[encoded data removed]",
      "text/plain": [
       "<Figure size 432x288 with 1 Axes>"
      ]
     },
     "metadata": {},
     "output_type": "display_data"
    }
   ],
   "source": [
    "N = 60\n",
    "M = 40\n",
    "T = 600\n",
    "\n",
    "# noise sub-gaussianity parameter\n",
    "eta = 1\n",
    "# maximum value of R\n",
    "max_R = 1\n",
    "# rank of R\n",
    "rank = 5\n",
    "\n",
    "R_temp = np.random.binomial(1, 0.5, size=(N, M))\n",
    "u, s, vt = np.linalg.svd(R_temp, full_matrices = False)\n",
    "s[rank:] = 0\n",
    "\n",
    "R_true = u @ np.diag(s) @ vt\n",
    "lower = np.quantile(R_true, 0.999)\n",
    "upper = np.quantile(R_true, 0.001)\n",
    "R_true = np.clip(R_true, upper, lower)\n",
    "R_true = max_R * (R_true - lower) / (upper - lower)\n",
    "\n",
    "plt.hist(R_true.flatten(), bins=np.int32(np.sqrt(N * M)))\n",
    "plt.show()\n",
    "# _, s, _ = np.linalg.svd(R_true)\n",
    "# plt.yscale(\"log\")\n",
    "# plt.plot(s)\n",
    "# plt.show()"
   ]
  },
  {
   "cell_type": "markdown",
   "id": "65f6eca7",
   "metadata": {},
   "source": [
    "### set static capacities"
   ]
  },
  {
   "cell_type": "code",
   "execution_count": 3,
   "id": "3ed84059",
   "metadata": {},
   "outputs": [],
   "source": [
    "# capacities\n",
    "C = np.ones(M)\n",
    "# demands\n",
    "D = np.ones(N)"
   ]
  },
  {
   "cell_type": "markdown",
   "id": "7617babe",
   "metadata": {},
   "source": [
    "### ILP Solver"
   ]
  },
  {
   "cell_type": "code",
   "execution_count": 4,
   "id": "c1b7931f",
   "metadata": {},
   "outputs": [],
   "source": [
    "solver = PyomoSolver(N, M, C, D)"
   ]
  },
  {
   "cell_type": "code",
   "execution_count": 5,
   "id": "331a61c6",
   "metadata": {},
   "outputs": [],
   "source": [
    "def shift_prices(R, x, p):\n",
    "    p_extended = np.tile(p,(N, 1))\n",
    "    margin = x * (R - p_extended) + (1 - x) * max_R\n",
    "    min_margin = np.min(margin)\n",
    "    return p + np.maximum(min_margin, 0) - 1e-6"
   ]
  },
  {
   "cell_type": "code",
   "execution_count": 6,
   "id": "39519467",
   "metadata": {},
   "outputs": [],
   "source": [
    "def get_offerings_and_prices(R):\n",
    "    x = solver.solve_system(R)\n",
    "    p = solver.get_prices()\n",
    "    p = shift_prices(R, x, p)\n",
    "    return x, p"
   ]
  },
  {
   "cell_type": "code",
   "execution_count": 7,
   "id": "7a26a928",
   "metadata": {},
   "outputs": [],
   "source": [
    "def filter_decisions(x, p):\n",
    "    accepted = np.int32(R_true > p)\n",
    "    return x * accepted"
   ]
  },
  {
   "cell_type": "code",
   "execution_count": 8,
   "id": "cfbb3d89",
   "metadata": {},
   "outputs": [],
   "source": [
    "def get_surplus(x):\n",
    "    return np.sum(x * R_true)"
   ]
  },
  {
   "cell_type": "markdown",
   "id": "ee4516c7",
   "metadata": {},
   "source": [
    "### get the optimum solution"
   ]
  },
  {
   "cell_type": "code",
   "execution_count": 9,
   "id": "44637fe9",
   "metadata": {},
   "outputs": [
    {
     "name": "stdout",
     "output_type": "stream",
     "text": [
      "32.456729408638665\n",
      "[0.6335117  0.8014599  0.58561721 0.79749949 0.74414664 0.6857345\n",
      " 0.80405218 0.85156124 0.74864407 0.8304782  0.9074568  0.68753692\n",
      " 0.69999177 0.76290106 0.7938089  0.76709537 0.69177224 0.82665645\n",
      " 0.81566729 0.58152617 0.69690374 0.71108329 0.78449852 0.69167323\n",
      " 0.84117606 0.65541819 0.70920214 0.60731285 0.78095464 0.93851137\n",
      " 0.54317026 0.95858423 0.62975747 0.75739972 0.79882652 0.71680888\n",
      " 0.61652044 0.81895342 0.85256169 0.91401255]\n"
     ]
    }
   ],
   "source": [
    "x_opt, p_opt = get_offerings_and_prices(R_true)\n",
    "surplus_opt = get_surplus(x_opt)\n",
    "print(surplus_opt)\n",
    "print(p_opt)"
   ]
  },
  {
   "cell_type": "markdown",
   "id": "a8e48eab",
   "metadata": {},
   "source": [
    "### solve while learning"
   ]
  },
  {
   "cell_type": "code",
   "execution_count": 10,
   "id": "b0ed8704",
   "metadata": {},
   "outputs": [],
   "source": [
    "def update_intervals(R_lower, R_upper, p, x_accepted, x_rejected):\n",
    "    p_extended = np.tile(p,(N, 1))\n",
    "    R_lower = x_accepted * p_extended + (1 - x_accepted) * R_lower\n",
    "    R_upper = x_rejected * p_extended + (1 - x_rejected) * R_upper\n",
    "    return R_lower, R_upper"
   ]
  },
  {
   "cell_type": "code",
   "execution_count": 11,
   "id": "dff49cb2",
   "metadata": {},
   "outputs": [],
   "source": [
    "def get_proxy(R_lower, R_upper, alpha):\n",
    "    R_proxy = R_lower + alpha * (R_upper - R_lower)\n",
    "    return R_proxy"
   ]
  },
  {
   "cell_type": "code",
   "execution_count": 12,
   "id": "82db74ed",
   "metadata": {},
   "outputs": [],
   "source": [
    "# def update_counts(counts, x_offered):\n",
    "#     new_counts = x_offered + (counts + 1) * (1 - x_offered)\n",
    "#     return new_counts"
   ]
  },
  {
   "cell_type": "code",
   "execution_count": 13,
   "id": "d93b5065",
   "metadata": {
    "scrolled": true
   },
   "outputs": [
    {
     "name": "stdout",
     "output_type": "stream",
     "text": [
      "0 13.727905430751708 0.525\n",
      "10 26.826060598150644 1.0\n",
      "20 26.324615242618126 0.975\n",
      "30 26.826060598150644 1.0\n",
      "40 26.826060598150644 1.0\n",
      "50 26.826060598150644 1.0\n",
      "60 26.826060598150644 1.0\n",
      "70 26.826060598150644 1.0\n",
      "80 26.826060598150644 1.0\n",
      "90 26.826060598150644 1.0\n",
      "100 26.826060598150644 1.0\n",
      "110 26.826060598150644 1.0\n",
      "120 26.826060598150644 1.0\n",
      "130 26.826060598150644 1.0\n",
      "140 26.826060598150644 1.0\n",
      "150 26.826060598150644 1.0\n",
      "160 26.826060598150644 1.0\n",
      "170 26.826060598150644 1.0\n",
      "180 26.826060598150644 1.0\n",
      "190 26.826060598150644 1.0\n",
      "200 26.826060598150644 1.0\n",
      "210 26.826060598150644 1.0\n",
      "220 26.826060598150644 1.0\n",
      "230 26.826060598150644 1.0\n",
      "240 26.826060598150644 1.0\n",
      "250 26.826060598150644 1.0\n",
      "260 26.826060598150644 1.0\n",
      "270 26.826060598150644 1.0\n",
      "280 26.826060598150644 1.0\n",
      "290 26.826060598150644 1.0\n",
      "300 26.826060598150644 1.0\n",
      "310 26.826060598150644 1.0\n",
      "320 26.826060598150644 1.0\n",
      "330 26.826060598150644 1.0\n",
      "340 26.826060598150644 1.0\n",
      "350 26.826060598150644 1.0\n",
      "360 26.826060598150644 1.0\n",
      "370 26.826060598150644 1.0\n",
      "380 26.826060598150644 1.0\n",
      "390 26.826060598150644 1.0\n",
      "400 26.826060598150644 1.0\n",
      "410 26.826060598150644 1.0\n",
      "420 26.826060598150644 1.0\n",
      "430 26.826060598150644 1.0\n",
      "440 26.826060598150644 1.0\n",
      "450 26.826060598150644 1.0\n",
      "460 26.826060598150644 1.0\n",
      "470 26.826060598150644 1.0\n",
      "480 26.826060598150644 1.0\n",
      "490 26.826060598150644 1.0\n",
      "500 26.826060598150644 1.0\n",
      "510 26.826060598150644 1.0\n",
      "520 26.826060598150644 1.0\n",
      "530 26.826060598150644 1.0\n",
      "540 26.826060598150644 1.0\n",
      "550 26.826060598150644 1.0\n",
      "560 26.826060598150644 1.0\n",
      "570 26.826060598150644 1.0\n",
      "580 26.826060598150644 1.0\n",
      "590 26.826060598150644 1.0\n",
      "done\n",
      "0 9.37018948998343 0.325\n",
      "10 24.968523728246815 0.875\n",
      "20 26.93207445217414 0.95\n",
      "30 27.595885324024252 0.975\n",
      "40 27.429154177643888 0.975\n",
      "50 28.152713172517416 1.0\n",
      "60 28.152713172517416 1.0\n",
      "70 28.152713172517416 1.0\n",
      "80 28.152713172517416 1.0\n",
      "90 28.152713172517416 1.0\n",
      "100 28.152713172517416 1.0\n",
      "110 28.152713172517416 1.0\n",
      "120 28.152713172517416 1.0\n",
      "130 28.152713172517416 1.0\n",
      "140 28.152713172517416 1.0\n",
      "150 28.152713172517416 1.0\n",
      "160 28.152713172517416 1.0\n",
      "170 28.152713172517416 1.0\n",
      "180 28.152713172517416 1.0\n",
      "190 28.152713172517416 1.0\n",
      "200 28.152713172517416 1.0\n",
      "210 28.152713172517416 1.0\n",
      "220 28.152713172517416 1.0\n",
      "230 28.152713172517416 1.0\n",
      "240 28.152713172517416 1.0\n",
      "250 28.152713172517416 1.0\n",
      "260 28.152713172517416 1.0\n",
      "270 28.152713172517416 1.0\n",
      "280 28.152713172517416 1.0\n",
      "290 28.152713172517416 1.0\n",
      "300 28.152713172517416 1.0\n",
      "310 28.152713172517416 1.0\n",
      "320 28.152713172517416 1.0\n",
      "330 28.152713172517416 1.0\n",
      "340 28.152713172517416 1.0\n",
      "350 28.152713172517416 1.0\n",
      "360 28.152713172517416 1.0\n",
      "370 28.152713172517416 1.0\n",
      "380 28.152713172517416 1.0\n",
      "390 28.152713172517416 1.0\n",
      "400 28.152713172517416 1.0\n",
      "410 28.152713172517416 1.0\n",
      "420 28.152713172517416 1.0\n",
      "430 28.152713172517416 1.0\n",
      "440 28.152713172517416 1.0\n",
      "450 28.152713172517416 1.0\n",
      "460 28.152713172517416 1.0\n",
      "470 28.152713172517416 1.0\n",
      "480 28.152713172517416 1.0\n",
      "490 28.152713172517416 1.0\n",
      "500 28.152713172517416 1.0\n",
      "510 28.152713172517416 1.0\n",
      "520 28.152713172517416 1.0\n",
      "530 28.152713172517416 1.0\n",
      "540 28.152713172517416 1.0\n",
      "550 28.152713172517416 1.0\n",
      "560 28.152713172517416 1.0\n",
      "570 28.152713172517416 1.0\n",
      "580 28.152713172517416 1.0\n",
      "590 28.152713172517416 1.0\n",
      "done\n",
      "0 5.453835710644388 0.175\n",
      "10 17.28468302729186 0.55\n",
      "20 22.45011038929998 0.725\n",
      "30 23.158225061320334 0.75\n",
      "40 20.911451379518784 0.675\n",
      "50 26.798687731405014 0.9\n",
      "60 26.857007155065524 0.9\n",
      "70 28.375490656984912 0.95\n",
      "80 26.62465070164172 0.875\n",
      "90 28.184713104895323 0.925\n",
      "100 28.370882639825332 0.925\n",
      "110 29.71802676815544 0.975\n",
      "120 25.17865971962027 0.8\n",
      "130 29.079983645406877 0.95\n",
      "140 30.40342566729739 1.0\n",
      "150 30.40342566729739 1.0\n",
      "160 30.40342566729739 1.0\n",
      "170 30.40342566729739 1.0\n",
      "180 30.40342566729739 1.0\n",
      "190 30.40342566729739 1.0\n",
      "200 30.40342566729739 1.0\n",
      "210 30.40342566729739 1.0\n",
      "220 30.40342566729739 1.0\n",
      "230 30.40342566729739 1.0\n",
      "240 30.40342566729739 1.0\n",
      "250 30.40342566729739 1.0\n",
      "260 30.40342566729739 1.0\n",
      "270 30.40342566729739 1.0\n",
      "280 30.40342566729739 1.0\n",
      "290 30.40342566729739 1.0\n",
      "300 30.40342566729739 1.0\n",
      "310 30.40342566729739 1.0\n",
      "320 30.40342566729739 1.0\n",
      "330 30.40342566729739 1.0\n",
      "340 30.40342566729739 1.0\n",
      "350 30.40342566729739 1.0\n",
      "360 30.40342566729739 1.0\n",
      "370 30.40342566729739 1.0\n",
      "380 30.40342566729739 1.0\n",
      "390 30.40342566729739 1.0\n",
      "400 30.40342566729739 1.0\n",
      "410 30.40342566729739 1.0\n",
      "420 30.40342566729739 1.0\n",
      "430 30.40342566729739 1.0\n",
      "440 30.40342566729739 1.0\n",
      "450 30.40342566729739 1.0\n",
      "460 30.40342566729739 1.0\n",
      "470 30.40342566729739 1.0\n",
      "480 30.40342566729739 1.0\n",
      "490 30.40342566729739 1.0\n",
      "500 30.40342566729739 1.0\n",
      "510 30.40342566729739 1.0\n",
      "520 30.40342566729739 1.0\n",
      "530 30.40342566729739 1.0\n",
      "540 30.40342566729739 1.0\n",
      "550 30.40342566729739 1.0\n",
      "560 30.40342566729739 1.0\n",
      "570 30.40342566729739 1.0\n",
      "580 30.40342566729739 1.0\n",
      "590 30.40342566729739 1.0\n",
      "done\n",
      "0 1.802297099494343 0.05\n",
      "10 11.370610076769887 0.325\n",
      "20 13.179175835284665 0.375\n",
      "30 16.738130342107183 0.475\n",
      "40 21.26239835186396 0.65\n",
      "50 14.500798276953656 0.45\n",
      "60 18.86213340631709 0.575\n",
      "70 21.574378250804056 0.65\n",
      "80 23.137716579043477 0.7\n",
      "90 26.55472800497131 0.825\n",
      "100 26.38507984405293 0.825\n",
      "110 28.368699584689598 0.9\n",
      "120 29.39667519931094 0.925\n",
      "130 28.625715084392354 0.9\n",
      "140 29.081534145343934 0.925\n",
      "150 28.4844133685298 0.925\n",
      "160 30.321642459118216 0.975\n",
      "170 30.567904105505967 0.975\n",
      "180 30.946174824567574 1.0\n",
      "190 28.81846525047886 0.925\n",
      "200 30.366510546440267 0.975\n",
      "210 31.061232854238725 1.0\n",
      "220 31.061232854238725 1.0\n",
      "230 31.061232854238725 1.0\n",
      "240 31.061232854238725 1.0\n",
      "250 31.061232854238725 1.0\n",
      "260 31.061232854238725 1.0\n",
      "270 31.061232854238725 1.0\n",
      "280 31.061232854238725 1.0\n",
      "290 31.061232854238725 1.0\n",
      "300 31.061232854238725 1.0\n",
      "310 31.061232854238725 1.0\n",
      "320 31.061232854238725 1.0\n",
      "330 31.061232854238725 1.0\n",
      "340 31.061232854238725 1.0\n",
      "350 31.061232854238725 1.0\n",
      "360 31.061232854238725 1.0\n",
      "370 31.061232854238725 1.0\n",
      "380 31.061232854238725 1.0\n",
      "390 31.061232854238725 1.0\n",
      "400 31.061232854238725 1.0\n",
      "410 31.061232854238725 1.0\n",
      "420 31.061232854238725 1.0\n",
      "430 31.061232854238725 1.0\n",
      "440 31.061232854238725 1.0\n",
      "450 31.061232854238725 1.0\n",
      "460 31.061232854238725 1.0\n",
      "470 31.061232854238725 1.0\n",
      "480 31.061232854238725 1.0\n",
      "490 31.061232854238725 1.0\n",
      "500 31.061232854238725 1.0\n",
      "510 31.061232854238725 1.0\n",
      "520 31.061232854238725 1.0\n",
      "530 31.061232854238725 1.0\n",
      "540 31.061232854238725 1.0\n",
      "550 31.061232854238725 1.0\n",
      "560 31.061232854238725 1.0\n",
      "570 31.061232854238725 1.0\n",
      "580 31.061232854238725 1.0\n",
      "590 31.061232854238725 1.0\n",
      "done\n"
     ]
    }
   ],
   "source": [
    "alpha_list = [0.5, 0.6, 0.7, 0.8]\n",
    "rewards = np.zeros((len(alpha_list), T))\n",
    "acceptance = np.zeros((len(alpha_list), T))\n",
    "\n",
    "for i, alpha in enumerate(alpha_list):\n",
    "    R_lower = np.zeros((N, M))\n",
    "    R_upper = max_R * np.ones((N, M))\n",
    "    #counts = np.ones((N, M))\n",
    "    for t in range(T):\n",
    "        # get a point in each interval\n",
    "        R_proxy = get_proxy(R_lower, R_upper, alpha)\n",
    "\n",
    "        x_offered, p = get_offerings_and_prices(R_proxy)\n",
    "        #counts = update_counts(counts, x_offered)\n",
    "\n",
    "        x_accepted = filter_decisions(x_offered, p)\n",
    "        x_rejected = x_offered - x_accepted\n",
    "        R_lower, R_upper = update_intervals(R_lower, R_upper, p, x_accepted, x_rejected)\n",
    "\n",
    "        acceptance[i, t] = np.sum(x_accepted) / np.sum(x_offered)\n",
    "        rewards[i, t] = get_surplus(x_accepted)\n",
    "        \n",
    "        if t % 10 == 0:\n",
    "            print(t, rewards[i, t], acceptance[i, t])\n",
    "        \n",
    "    print(\"done\")"
   ]
  },
  {
   "cell_type": "code",
   "execution_count": 14,
   "id": "206047fd",
   "metadata": {},
   "outputs": [
    {
     "data": {
      "image/png": "[encoded data removed]",
      "text/plain": [
       "<Figure size 432x288 with 1 Axes>"
      ]
     },
     "metadata": {},
     "output_type": "display_data"
    }
   ],
   "source": [
    "for i, alpha in enumerate(alpha_list):\n",
    "     plt.plot(np.arange(T), rewards[i], label = \"alpha = {}\".format(alpha))\n",
    "plt.legend()\n",
    "plt.show()"
   ]
  },
  {
   "cell_type": "code",
   "execution_count": 15,
   "id": "7f80472e",
   "metadata": {
    "scrolled": true
   },
   "outputs": [
    {
     "data": {
      "image/png": "[encoded data removed]",
      "text/plain": [
       "<Figure size 432x288 with 1 Axes>"
      ]
     },
     "metadata": {},
     "output_type": "display_data"
    }
   ],
   "source": [
    "for i, alpha in enumerate(alpha_list):\n",
    "     plt.plot(np.arange(T), acceptance[i], label = \"alpha = {}\".format(alpha))\n",
    "plt.legend()\n",
    "plt.show()"
   ]
  },
  {
   "cell_type": "code",
   "execution_count": 18,
   "id": "0232c455",
   "metadata": {},
   "outputs": [
    {
     "data": {
      "image/png": "[encoded data removed]",
      "text/plain": [
       "<Figure size 432x288 with 1 Axes>"
      ]
     },
     "metadata": {},
     "output_type": "display_data"
    }
   ],
   "source": [
    "regrets = surplus_opt - rewards\n",
    "\n",
    "for i, alpha in enumerate(alpha_list):\n",
    "     plt.plot(np.arange(T), np.cumsum(regrets[i]), label = \"alpha = {}\".format(alpha))\n",
    "plt.legend()\n",
    "plt.show()"
   ]
  },
  {
   "cell_type": "code",
   "execution_count": null,
   "id": "11eb646c",
   "metadata": {},
   "outputs": [],
   "source": []
  }
 ],
 "metadata": {
  "kernelspec": {
   "display_name": "Python 3",
   "language": "python",
   "name": "python3"
  },
  "language_info": {
   "codemirror_mode": {
    "name": "ipython",
    "version": 3
   },
   "file_extension": ".py",
   "mimetype": "text/x-python",
   "name": "python",
   "nbconvert_exporter": "python",
   "pygments_lexer": "ipython3",
   "version": "3.8.8"
  }
 },
 "nbformat": 4,
 "nbformat_minor": 5
}
