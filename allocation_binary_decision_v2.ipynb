{
 "cells": [
  {
   "cell_type": "code",
   "execution_count": 1,
   "id": "3b60f21c",
   "metadata": {},
   "outputs": [],
   "source": [
    "import numpy as np\n",
    "from cvxopt import matrix, solvers, log, exp\n",
    "import matplotlib.pyplot as plt\n",
    "\n",
    "from matplotlib import style\n",
    "import matplotlib\n",
    "plt.style.use('ggplot')\n",
    "matplotlib.rcParams.update({\"axes.grid\" : False})\n",
    "\n",
    "from PyomoSolver import PyomoSolver"
   ]
  },
  {
   "cell_type": "markdown",
   "id": "c055c2ad",
   "metadata": {},
   "source": [
    "### set up problem"
   ]
  },
  {
   "cell_type": "code",
   "execution_count": 2,
   "id": "0981d0e2",
   "metadata": {},
   "outputs": [
    {
     "data": {
      "image/png": "[encoded data removed]",
      "text/plain": [
       "<Figure size 432x288 with 1 Axes>"
      ]
     },
     "metadata": {},
     "output_type": "display_data"
    }
   ],
   "source": [
    "N = 80\n",
    "M = 80\n",
    "T = 500\n",
    "\n",
    "# noise sub-gaussianity parameter\n",
    "eta = 1\n",
    "# maximum value of R\n",
    "max_R = 1\n",
    "\n",
    "R_true = np.random.beta(10, 10, size=(N, M))\n",
    "\n",
    "plt.hist(R_true.flatten(), bins=np.int32(np.sqrt(N * M)))\n",
    "plt.show()\n",
    "# _, s, _ = np.linalg.svd(R_true)\n",
    "# plt.yscale(\"log\")\n",
    "# plt.plot(s)\n",
    "# plt.show()"
   ]
  },
  {
   "cell_type": "markdown",
   "id": "65f6eca7",
   "metadata": {},
   "source": [
    "### set static capacities"
   ]
  },
  {
   "cell_type": "code",
   "execution_count": 3,
   "id": "3ed84059",
   "metadata": {},
   "outputs": [],
   "source": [
    "# capacities\n",
    "C = np.ones(M)\n",
    "# demands\n",
    "D = np.ones(N)"
   ]
  },
  {
   "cell_type": "markdown",
   "id": "7617babe",
   "metadata": {},
   "source": [
    "### ILP Solver"
   ]
  },
  {
   "cell_type": "code",
   "execution_count": 4,
   "id": "c1b7931f",
   "metadata": {},
   "outputs": [],
   "source": [
    "solver = PyomoSolver(N, M, C, D)"
   ]
  },
  {
   "cell_type": "code",
   "execution_count": 5,
   "id": "331a61c6",
   "metadata": {},
   "outputs": [],
   "source": [
    "def shift_prices(R, x, p):\n",
    "    p_extended = np.tile(p,(N, 1))\n",
    "    margin = x * (R - p_extended) + (1 - x) * max_R\n",
    "    min_margin = np.min(margin)\n",
    "    return p + np.maximum(min_margin, 0) - 1e-15"
   ]
  },
  {
   "cell_type": "code",
   "execution_count": 6,
   "id": "39519467",
   "metadata": {},
   "outputs": [],
   "source": [
    "def get_offerings_and_prices(R):\n",
    "    x = solver.solve_system(R)\n",
    "    p = solver.get_prices()\n",
    "    p = p - 1e-6\n",
    "    return x, p"
   ]
  },
  {
   "cell_type": "code",
   "execution_count": 7,
   "id": "7a26a928",
   "metadata": {},
   "outputs": [],
   "source": [
    "def filter_decisions(x, p):\n",
    "    accepted = np.int32(R_true >= p)\n",
    "    x_accepted = x * accepted\n",
    "    # print(np.sum((R_true - p) * x, axis = 0))\n",
    "    return x_accepted"
   ]
  },
  {
   "cell_type": "code",
   "execution_count": 8,
   "id": "cfbb3d89",
   "metadata": {},
   "outputs": [],
   "source": [
    "def get_surplus(x):\n",
    "    return np.sum(x * R_true)"
   ]
  },
  {
   "cell_type": "code",
   "execution_count": 9,
   "id": "ba4fbcfd",
   "metadata": {},
   "outputs": [],
   "source": [
    "def get_dissatisfaction(x, p):\n",
    "    current_surplus = np.sum(x * (R_true - p), axis = 1)\n",
    "    best_surplus = np.maximum(np.max(R_true - p, axis = 1), 0)\n",
    "    return np.sum(best_surplus - current_surplus)"
   ]
  },
  {
   "cell_type": "code",
   "execution_count": 10,
   "id": "881e8398",
   "metadata": {},
   "outputs": [],
   "source": [
    "def get_proxy(R_lower, R_upper, alpha):\n",
    "    R_proxy = R_lower + alpha * (R_upper - R_lower)\n",
    "    return R_proxy"
   ]
  },
  {
   "cell_type": "code",
   "execution_count": 11,
   "id": "979eb56e",
   "metadata": {},
   "outputs": [],
   "source": [
    "def update_intervals(R_lower, R_upper, p, x_accepted, x_rejected):\n",
    "    p_extended = np.tile(p,(N, 1))\n",
    "    R_lower = np.maximum(R_lower, x_accepted * p_extended + (1 - x_accepted) * R_lower)\n",
    "    R_upper = np.minimum(R_upper, x_rejected * p_extended + (1 - x_rejected) * R_upper)\n",
    "    return R_lower, R_upper"
   ]
  },
  {
   "cell_type": "markdown",
   "id": "ee4516c7",
   "metadata": {},
   "source": [
    "### get the optimum solution"
   ]
  },
  {
   "cell_type": "code",
   "execution_count": 12,
   "id": "44637fe9",
   "metadata": {},
   "outputs": [
    {
     "name": "stdout",
     "output_type": "stream",
     "text": [
      "59.51160077483153\n",
      "[0.65511816 0.7057219  0.66871938 0.66007618 0.68464397 0.7451513\n",
      " 0.62739321 0.67849788 0.70528901 0.6469852  0.67180522 0.64457521\n",
      " 0.72262493 0.67785773 0.61283717 0.67685489 0.66648586 0.69287466\n",
      " 0.63590132 0.61818063 0.65144643 0.64891511 0.68051051 0.63535262\n",
      " 0.66467217 0.62924996 0.65506486 0.61822549 0.67604817 0.68948605\n",
      " 0.65730733 0.65823345 0.73320278 0.66389042 0.65865305 0.67303421\n",
      " 0.61718921 0.67441499 0.68358757 0.70198488 0.72296033 0.68723134\n",
      " 0.65998796 0.64986109 0.63722874 0.67379495 0.67195397 0.67119698\n",
      " 0.65058897 0.61216491 0.67874684 0.57500996 0.66099536 0.70896426\n",
      " 0.74312224 0.61405497 0.67136212 0.66168307 0.63694424 0.64939408\n",
      " 0.63891548 0.68261774 0.73586117 0.67300931 0.62960755 0.63331836\n",
      " 0.65884762 0.66691282 0.63023019 0.67495853 0.69520792 0.6755698\n",
      " 0.682439   0.62381427 0.73391724 0.65099201 0.67152547 0.73425625\n",
      " 0.69257126 0.68525333]\n"
     ]
    }
   ],
   "source": [
    "x_opt, p_opt = get_offerings_and_prices(R_true)\n",
    "surplus_opt = get_surplus(x_opt)\n",
    "print(surplus_opt)\n",
    "print(p_opt)"
   ]
  },
  {
   "cell_type": "markdown",
   "id": "72a944b7",
   "metadata": {},
   "source": [
    "### set the experiment history arrays"
   ]
  },
  {
   "cell_type": "code",
   "execution_count": 13,
   "id": "5ca4e186",
   "metadata": {},
   "outputs": [],
   "source": [
    "exp_names = [\"LAC\", \"UCB with halving\", \"UCB with lower prices\", \"UCB with incremental prices\"]\n",
    "num_of_exp = len(exp_names)\n",
    "\n",
    "rewards = np.zeros((num_of_exp, T))\n",
    "acceptance = np.zeros((num_of_exp, T))"
   ]
  },
  {
   "cell_type": "markdown",
   "id": "b52adab8",
   "metadata": {},
   "source": [
    "### learn-and-commit"
   ]
  },
  {
   "cell_type": "code",
   "execution_count": 14,
   "id": "eabfffbc",
   "metadata": {},
   "outputs": [
    {
     "name": "stdout",
     "output_type": "stream",
     "text": [
      "5.352958076798586e-10\n"
     ]
    }
   ],
   "source": [
    "R_true_flat = R_true.flatten()\n",
    "R_true_flat = np.sort(R_true_flat)\n",
    "R_diff = np.abs(np.diff(R_true_flat))\n",
    "print(np.min(R_diff))"
   ]
  },
  {
   "cell_type": "markdown",
   "id": "e62184ba",
   "metadata": {},
   "source": [
    "#### duration estimate:"
   ]
  },
  {
   "cell_type": "code",
   "execution_count": 27,
   "id": "ba6f11d9",
   "metadata": {},
   "outputs": [
    {
     "data": {
      "text/plain": [
       "(395.5847207202499, 2463.9155676039773)"
      ]
     },
     "execution_count": 27,
     "metadata": {},
     "output_type": "execute_result"
    }
   ],
   "source": [
    "np.maximum(N, M) * np.log2(np.log2(1/np.min(R_diff))), np.maximum(N, M) * np.log2(1/np.min(R_diff))"
   ]
  },
  {
   "cell_type": "code",
   "execution_count": 16,
   "id": "d46933dc",
   "metadata": {
    "scrolled": true
   },
   "outputs": [
    {
     "name": "stdout",
     "output_type": "stream",
     "text": [
      "0 27.35297804861599 16.885324757252242 0.5875\n",
      "10 22.97927215084014 17.25903065502809 0.4875\n",
      "20 22.327685343163076 17.410617462705158 0.475\n",
      "30 19.73250679115779 18.005796014710448 0.425\n",
      "40 17.789497465366242 17.94880534050199 0.375\n",
      "50 28.442331977040993 16.29597082882724 0.6\n",
      "60 20.01208846050971 17.72621434535852 0.425\n",
      "70 27.6341609859409 16.604141819927335 0.5875\n",
      "80 13.635942317861328 32.813814614192665 0.4\n",
      "90 18.22229013184468 31.498611378620808 0.525\n",
      "100 17.62869246544789 32.01588231019651 0.525\n",
      "110 18.9306805100941 31.59673111958959 0.5625\n",
      "120 20.100897721544197 32.1051185473314 0.625\n",
      "130 15.878540560577578 32.84883964375348 0.45\n",
      "140 19.223184623462743 32.19839649847154 0.575\n",
      "150 13.302475618100793 33.81448680181036 0.4125\n",
      "160 19.668706681618314 31.032603804332005 0.4875\n",
      "170 21.136148684348164 25.959752826117324 0.5375\n",
      "180 20.462130072719454 26.057444702924954 0.5125\n",
      "190 21.88087471714691 29.698985012770386 0.575\n",
      "200 18.6548148918295 27.0512013770461 0.475\n",
      "210 14.771856773938772 25.955523430392287 0.35\n",
      "220 21.37054372774932 31.357558931153484 0.5625\n",
      "230 13.871245641210983 32.437374304788136 0.35\n",
      "240 20.981114428237642 29.598552031529792 0.5\n",
      "250 21.484471811775606 26.805641030680462 0.525\n",
      "260 25.056688472350267 27.35048390419889 0.6\n",
      "270 19.76290133953625 29.18562255936643 0.5125\n",
      "280 24.544478495786514 29.859575015884346 0.6375\n",
      "290 15.685796158069529 28.75053335897697 0.4125\n",
      "300 15.946330031818066 30.579026755577242 0.4125\n",
      "310 21.995696337445455 31.298010853949716 0.5375\n",
      "320 18.81940784224089 28.931842784397258 0.4625\n",
      "330 21.266980757863088 27.761008311714242 0.525\n",
      "340 17.60006015809477 28.41333390371915 0.425\n",
      "350 18.169202482656864 29.168920809445325 0.4625\n",
      "360 20.048226353140052 30.704559464341838 0.525\n",
      "370 22.294649875534933 28.65097590014458 0.5375\n",
      "380 16.92257719063651 30.189715906919343 0.4375\n",
      "390 18.309508305757713 30.60253692589486 0.45\n",
      "400 18.857609720796816 28.777278710277145 0.45\n",
      "410 17.51749705496735 28.024123292425386 0.4375\n",
      "420 20.3144642134097 29.22993104140268 0.5125\n",
      "430 18.087106952026645 28.98527164205035 0.4625\n",
      "440 18.41526075828918 30.92604501039789 0.4625\n",
      "450 21.469553547116114 28.895731163992306 0.5\n",
      "460 22.607754996177913 30.711884851805795 0.575\n",
      "470 21.29981214752192 31.202987304653156 0.5375\n",
      "480 21.29610429355325 29.180899165649443 0.525\n",
      "490 16.8993878448366 28.04470239392093 0.4125\n",
      "done\n"
     ]
    }
   ],
   "source": [
    "exp_id = 0\n",
    "\n",
    "delta = 1e-7\n",
    "\n",
    "R_lower = np.zeros((N, M))\n",
    "R_upper = max_R * np.ones((N, M))\n",
    "#counts = np.ones((N, M))\n",
    "for t in range(T):\n",
    "        \n",
    "    # get a point in each interval\n",
    "    R_length = R_upper - R_lower\n",
    "    \n",
    "    if np.max(R_length) > delta:\n",
    "        x_offered, _ = get_offerings_and_prices(R_length)\n",
    "        p = np.max(get_proxy(R_lower, R_upper, 0.5) * x_offered, axis = 0)\n",
    "    else:\n",
    "        R_proxy = get_proxy(R_lower, R_upper, 0.5)\n",
    "        x_offered, p = get_offerings_and_prices(R_proxy)\n",
    "                    \n",
    "    x_accepted = filter_decisions(x_offered, p)\n",
    "    x_rejected = x_offered - x_accepted\n",
    "    R_lower, R_upper = update_intervals(R_lower, R_upper, p, x_accepted, x_rejected)\n",
    "\n",
    "    acceptance[exp_id, t] = np.sum(x_accepted) / np.sum(x_offered)\n",
    "    rewards[exp_id, t] = get_surplus(x_accepted)\n",
    "    diss = get_dissatisfaction(x_accepted, p)\n",
    "    \n",
    "    if t % 10 == 0:\n",
    "        print(t, rewards[exp_id, t], diss, acceptance[exp_id, t])\n",
    "        # print(to_learn)\n",
    "\n",
    "        # print(R_length)\n",
    "        # print(np.linalg.norm(p - p_opt), np.linalg.norm(p_w - p_opt))\n",
    "\n",
    "\n",
    "print(\"done\")"
   ]
  },
  {
   "cell_type": "markdown",
   "id": "a8e48eab",
   "metadata": {},
   "source": [
    "### UCB with halving"
   ]
  },
  {
   "cell_type": "code",
   "execution_count": 17,
   "id": "82db74ed",
   "metadata": {},
   "outputs": [],
   "source": [
    "# def update_counts(counts, x_offered):\n",
    "#     new_counts = x_offered + (counts + 1) * (1 - x_offered)\n",
    "#     return new_counts"
   ]
  },
  {
   "cell_type": "code",
   "execution_count": 18,
   "id": "d93b5065",
   "metadata": {
    "scrolled": true
   },
   "outputs": [
    {
     "name": "stdout",
     "output_type": "stream",
     "text": [
      "0 27.35297804861599 16.885324757252242 0.5875\n",
      "10 16.95433840622782 17.68926274796742 0.375\n",
      "20 17.99758050650625 17.08214473138029 0.375\n",
      "30 15.812255739504076 15.965032485824334 0.3125\n",
      "40 21.553650293581377 16.828331390158656 0.4625\n",
      "50 17.555267975629878 16.74490334897685 0.3625\n",
      "60 18.380454125729766 17.088414069660846 0.3875\n",
      "70 16.365510361384747 16.446092003182265 0.3375\n",
      "80 16.716605520561234 17.665113960016875 0.3625\n",
      "90 17.266197291955407 17.357738985456535 0.3625\n",
      "100 19.029227989482195 17.105157081019968 0.4\n",
      "110 13.822568272119995 17.603674755252413 0.3\n",
      "120 10.144502348833209 15.71053878586509 0.2\n",
      "130 18.205642457538623 7.9540136092435105 0.3125\n",
      "140 27.987227733598992 5.884378464088346 0.475\n",
      "150 28.405877119751594 6.36090645055628 0.475\n",
      "160 24.059755081615364 5.864643640167882 0.4\n",
      "170 37.184067016316064 4.364714951349015 0.625\n",
      "180 37.45143071582541 3.397702457004174 0.625\n",
      "190 52.33709604469601 1.7306165680700363 0.875\n",
      "200 52.313917530818884 1.206871351242338 0.875\n",
      "210 57.93211276981984 1.0131726057189012 0.975\n",
      "220 56.519085425556916 0.7293184495077433 0.95\n",
      "230 58.850004450081194 0.07382018724150652 0.9875\n",
      "240 59.51160077483153 0.05555722606822033 1.0\n",
      "250 59.51160077483153 0.05558160436793347 1.0\n",
      "260 59.51160077483153 1.0757990831500308e-07 1.0\n",
      "270 59.51160077483153 1.0757990831500308e-07 1.0\n",
      "280 59.51160077483153 1.0757990831500308e-07 1.0\n",
      "290 59.51160077483153 1.0757990831500308e-07 1.0\n",
      "300 59.51160077483153 1.0757990831500308e-07 1.0\n",
      "310 59.51160077483153 1.0757990831500308e-07 1.0\n",
      "320 59.51160077483153 1.0757990831500308e-07 1.0\n",
      "330 59.51160077483153 1.0757990831500308e-07 1.0\n",
      "340 59.51160077483153 1.0757990831500308e-07 1.0\n",
      "350 59.51160077483153 1.0757990831500308e-07 1.0\n",
      "360 59.51160077483153 1.0757990831500308e-07 1.0\n",
      "370 59.51160077483153 1.0757990831500308e-07 1.0\n",
      "380 59.51160077483153 1.0757990831500308e-07 1.0\n",
      "390 59.51160077483153 1.0757990831500308e-07 1.0\n",
      "400 59.51160077483153 1.0757990831500308e-07 1.0\n",
      "410 59.51160077483153 1.0757990831500308e-07 1.0\n",
      "420 59.51160077483153 1.0757990831500308e-07 1.0\n",
      "430 59.51160077483153 1.0757990831500308e-07 1.0\n",
      "440 59.51160077483153 1.0757990831500308e-07 1.0\n",
      "450 59.51160077483153 1.0757990831500308e-07 1.0\n",
      "460 59.51160077483153 1.0757990831500308e-07 1.0\n",
      "470 59.51160077483153 1.0757990831500308e-07 1.0\n",
      "480 59.51160077483153 1.0757990831500308e-07 1.0\n",
      "490 59.51160077483153 1.0757990831500308e-07 1.0\n",
      "done\n"
     ]
    }
   ],
   "source": [
    "exp_id = 1\n",
    "\n",
    "delta = 1e-7\n",
    "\n",
    "R_lower = np.zeros((N, M))\n",
    "R_upper = max_R * np.ones((N, M))\n",
    "\n",
    "for t in range(T):\n",
    "        \n",
    "    # get a point in each interval\n",
    "    R_proxy = get_proxy(R_lower, R_upper, 1)\n",
    "    x_offered, p_w = get_offerings_and_prices(R_proxy)\n",
    "    \n",
    "    p_learn = np.max(get_proxy(R_lower, R_upper, 0.5) * x_offered, axis = 0)\n",
    "        \n",
    "    R_length = R_upper - R_lower\n",
    "    to_learn = np.max(x_offered * (R_length > delta), axis = 0) > 0\n",
    "    p = to_learn * p_learn + (1 - to_learn) * p_w\n",
    "         \n",
    "#     p = np.minimum(p_learn, p_w)\n",
    "    \n",
    "    x_accepted = filter_decisions(x_offered, p)\n",
    "    x_rejected = x_offered - x_accepted\n",
    "    R_lower, R_upper = update_intervals(R_lower, R_upper, p, x_accepted, x_rejected)\n",
    "\n",
    "    acceptance[exp_id, t] = np.sum(x_accepted) / np.sum(x_offered)\n",
    "    rewards[exp_id, t] = get_surplus(x_accepted)\n",
    "    diss = get_dissatisfaction(x_accepted, p)\n",
    "    \n",
    "    if t % 10 == 0:\n",
    "        print(t, rewards[exp_id, t], diss, acceptance[exp_id, t])\n",
    "        # print(to_learn)\n",
    "\n",
    "        # print(R_length)\n",
    "        # print(np.linalg.norm(p - p_opt), np.linalg.norm(p_w - p_opt))\n",
    "\n",
    "print(\"done\")"
   ]
  },
  {
   "cell_type": "markdown",
   "id": "7dc60827",
   "metadata": {},
   "source": [
    "### UCB with lower price ratio"
   ]
  },
  {
   "cell_type": "code",
   "execution_count": 19,
   "id": "e5f1df08",
   "metadata": {
    "scrolled": true
   },
   "outputs": [
    {
     "name": "stdout",
     "output_type": "stream",
     "text": [
      "0 38.62110229440606 18.91720051146217 0.9\n",
      "10 22.857382212798107 22.240034546287585 0.525\n",
      "20 24.794982236041548 22.473561765917992 0.575\n",
      "30 24.505731621478684 22.19953086578648 0.5375\n",
      "40 21.665404373353354 21.49661356972483 0.5\n",
      "50 25.246855493162506 21.78620292125241 0.5875\n",
      "60 20.35041300409506 22.611264952615848 0.45\n",
      "70 20.897811558032288 22.641960647612002 0.4875\n",
      "80 23.141910935931318 20.92419316265653 0.5125\n",
      "90 22.43274422507189 21.32237499245133 0.5\n",
      "100 22.750321699638278 21.878442413321153 0.5\n",
      "110 21.489931200344184 21.709738075767675 0.475\n",
      "120 21.30988525640847 23.025056861953157 0.5\n",
      "130 22.591525371408586 21.931096447270313 0.5\n",
      "140 17.07630736001348 21.122456475446477 0.375\n",
      "150 15.984747899977469 20.57297089163262 0.325\n",
      "160 23.491974650523687 12.457655586026313 0.4\n",
      "170 24.53764368258089 5.135535441408942 0.425\n",
      "180 41.112326667215164 3.700558770121078 0.6875\n",
      "190 41.98814017908384 2.8415712846465633 0.7\n",
      "200 53.925648054972854 0.7221955385295361 0.9\n",
      "210 54.27174829992813 0.7440852779907471 0.9125\n",
      "220 57.41636781419602 0.3143089156194643 0.9625\n",
      "230 59.51160077483153 9.572249548561729e-08 1.0\n",
      "240 59.51160077483153 9.572249548561729e-08 1.0\n",
      "250 59.51160077483153 9.572249548561729e-08 1.0\n",
      "260 59.51160077483153 9.572249548561729e-08 1.0\n",
      "270 59.51160077483153 9.572249548561729e-08 1.0\n",
      "280 59.51160077483153 9.572249548561729e-08 1.0\n",
      "290 59.51160077483153 9.572249548561729e-08 1.0\n",
      "300 59.51160077483153 9.572249548561729e-08 1.0\n",
      "310 59.51160077483153 9.572249548561729e-08 1.0\n",
      "320 59.51160077483153 9.572249548561729e-08 1.0\n",
      "330 59.51160077483153 9.572249548561729e-08 1.0\n",
      "340 59.51160077483153 9.572249548561729e-08 1.0\n",
      "350 59.51160077483153 9.572249548561729e-08 1.0\n",
      "360 59.51160077483153 9.572249548561729e-08 1.0\n",
      "370 59.51160077483153 9.572249548561729e-08 1.0\n",
      "380 59.51160077483153 9.572249548561729e-08 1.0\n",
      "390 59.51160077483153 9.572249548561729e-08 1.0\n",
      "400 59.51160077483153 9.572249548561729e-08 1.0\n",
      "410 59.51160077483153 9.572249548561729e-08 1.0\n",
      "420 59.51160077483153 9.572249548561729e-08 1.0\n",
      "430 59.51160077483153 9.572249548561729e-08 1.0\n",
      "440 59.51160077483153 9.572249548561729e-08 1.0\n",
      "450 59.51160077483153 9.572249548561729e-08 1.0\n",
      "460 59.51160077483153 9.572249548561729e-08 1.0\n",
      "470 59.51160077483153 9.572249548561729e-08 1.0\n",
      "480 59.51160077483153 9.572249548561729e-08 1.0\n",
      "490 59.51160077483153 9.572249548561729e-08 1.0\n",
      "done\n"
     ]
    }
   ],
   "source": [
    "exp_id = 2\n",
    "\n",
    "delta = 1e-7\n",
    "\n",
    "R_lower = np.zeros((N, M))\n",
    "R_upper = max_R * np.ones((N, M))\n",
    "\n",
    "for t in range(T):\n",
    "        \n",
    "    # get a point in each interval\n",
    "    R_proxy = get_proxy(R_lower, R_upper, 1)\n",
    "    x_offered, p_w = get_offerings_and_prices(R_proxy)\n",
    "    \n",
    "    p_learn = np.max(get_proxy(R_lower, R_upper, 0.4) * x_offered, axis = 0)\n",
    "        \n",
    "    R_length = R_upper - R_lower\n",
    "    to_learn = np.max(x_offered * (R_length > delta), axis = 0) > 0\n",
    "    p = to_learn * p_learn + (1 - to_learn) * p_w\n",
    "         \n",
    "#     p = np.minimum(p_learn, p_w)\n",
    "    \n",
    "    x_accepted = filter_decisions(x_offered, p)\n",
    "    x_rejected = x_offered - x_accepted\n",
    "    R_lower, R_upper = update_intervals(R_lower, R_upper, p, x_accepted, x_rejected)\n",
    "\n",
    "    acceptance[exp_id, t] = np.sum(x_accepted) / np.sum(x_offered)\n",
    "    rewards[exp_id, t] = get_surplus(x_accepted)\n",
    "    diss = get_dissatisfaction(x_accepted, p)\n",
    "    \n",
    "    if t % 10 == 0:\n",
    "        print(t, rewards[exp_id, t], diss, acceptance[exp_id, t])\n",
    "        # print(to_learn)\n",
    "\n",
    "        # print(R_length)\n",
    "        # print(np.linalg.norm(p - p_opt), np.linalg.norm(p_w - p_opt))\n",
    "\n",
    "print(\"done\")"
   ]
  },
  {
   "cell_type": "markdown",
   "id": "2d642a6c",
   "metadata": {},
   "source": [
    "### UCB with incremental search"
   ]
  },
  {
   "cell_type": "code",
   "execution_count": 20,
   "id": "946781d5",
   "metadata": {
    "scrolled": true
   },
   "outputs": [
    {
     "name": "stdout",
     "output_type": "stream",
     "text": [
      "0 27.35297804861599 16.885324757252242 0.5875\n",
      "10 16.95433840622782 17.68926274796742 0.375\n",
      "20 18.47886261261059 16.971518375340438 0.3875\n",
      "30 20.18936752688506 16.949675694971553 0.425\n",
      "40 14.025223095205668 17.68674260395349 0.3\n",
      "50 13.831068242550694 17.469049026691945 0.2875\n",
      "60 20.293259627696898 16.655154239046013 0.425\n",
      "70 16.312269441549464 17.555493724737595 0.35\n",
      "80 14.47158001508863 17.235774370959344 0.3125\n",
      "90 14.136986418251563 17.603363094286472 0.3\n",
      "100 9.20217539399468 17.63722702851722 0.2\n",
      "110 11.030771840584414 17.421900370009183 0.225\n",
      "120 17.74545651394289 15.738108467307768 0.35\n",
      "130 40.59087683391782 10.21067573363797 0.7\n",
      "140 45.52891803439503 8.129695315428242 0.775\n",
      "150 48.12838271281437 6.224753946928736 0.8125\n",
      "160 51.36632669509001 5.1275747918492804 0.875\n",
      "170 52.654398256260336 3.9008605175071214 0.8875\n",
      "180 57.53965531202104 2.2049808794746517 0.975\n",
      "190 55.46904352018386 2.538535109102318 0.9375\n",
      "200 57.84766351803948 2.561895602514955 0.9875\n",
      "210 56.99168049487314 1.4114298001241727 0.9625\n",
      "220 56.8798382894673 1.3316460582891259 0.9625\n",
      "230 58.26758360124714 1.1268054724397705 0.9875\n",
      "240 58.95911129316384 1.1347769776567382 1.0\n",
      "250 58.95911129316384 1.1266633018754884 1.0\n",
      "260 58.95911129316384 1.1263581260942384 1.0\n",
      "270 58.95911129316384 1.1260529503129884 1.0\n",
      "280 58.95911129316384 1.1257477745317384 1.0\n",
      "290 58.95911129316384 1.1254425987504884 1.0\n",
      "300 58.95911129316384 1.1251374229692384 1.0\n",
      "310 58.95911129316384 1.1248322471879884 1.0\n",
      "320 58.95911129316384 1.1245270714067384 1.0\n",
      "330 58.95911129316384 1.1242218956254884 1.0\n",
      "340 58.95911129316384 1.1239167198442384 1.0\n",
      "350 58.95911129316384 1.1236115440629884 1.0\n",
      "360 58.95911129316384 1.1233063682817384 1.0\n",
      "370 58.95911129316384 1.1230011925004884 1.0\n",
      "380 58.95911129316384 1.1226960167192384 1.0\n",
      "390 58.95911129316384 1.1707231082581258 1.0\n",
      "400 58.95911129316384 1.1707231036015129 1.0\n",
      "410 58.95911129316384 1.1707230989449 1.0\n",
      "420 58.95911129316384 1.1707230942882871 1.0\n",
      "430 58.95911129316384 1.1707230896316743 1.0\n",
      "440 58.95911129316384 1.1707230849750614 1.0\n",
      "450 58.95911129316384 1.1707230803184485 1.0\n",
      "460 58.95911129316384 1.1707230756618356 1.0\n",
      "470 58.95911129316384 1.1707230710052228 1.0\n",
      "480 58.95911129316384 1.17072306634861 1.0\n",
      "490 58.95911129316384 1.170723061691997 1.0\n",
      "done\n"
     ]
    }
   ],
   "source": [
    "exp_id = 3\n",
    "\n",
    "delta = 1e-7\n",
    "\n",
    "R_lower = np.zeros((N, M))\n",
    "R_upper = max_R * np.ones((N, M))\n",
    "R_length = R_upper - R_lower\n",
    "\n",
    "beta = 0.5 * np.ones((N, M))\n",
    "\n",
    "for t in range(T):\n",
    "        \n",
    "    R_proxy = R_upper.copy()\n",
    "    x_offered, p_w = get_offerings_and_prices(R_proxy)\n",
    "    \n",
    "    p_learn = np.max((R_lower + beta) * x_offered, axis = 0)\n",
    "        \n",
    "#     to_learn = np.max(x_offered * (R_length > delta), axis = 0) > 0\n",
    "#     p = to_learn * p_learn + (1 - to_learn) * p_w\n",
    "         \n",
    "    p = np.minimum(p_learn, p_w)\n",
    "    \n",
    "    x_accepted = filter_decisions(x_offered, p)\n",
    "    x_rejected = x_offered - x_accepted\n",
    "    \n",
    "    R_lower, R_upper = update_intervals(R_lower, R_upper, p, x_accepted, x_rejected)\n",
    "    R_length = R_upper - R_lower\n",
    "\n",
    "    # update beta (price increments)\n",
    "    betas_to_shrink = (beta + 1e-13) > R_length\n",
    "    beta = (beta**2) * betas_to_shrink + beta * (1 - betas_to_shrink)\n",
    "  \n",
    "    acceptance[exp_id, t] = np.sum(x_accepted) / np.sum(x_offered)\n",
    "    rewards[exp_id, t] = get_surplus(x_accepted)\n",
    "    diss = get_dissatisfaction(x_accepted, p)\n",
    "    \n",
    "    if t % 10 == 0:\n",
    "        # print(beta)\n",
    "        print(t, rewards[exp_id, t], diss, acceptance[exp_id, t])\n",
    "#         print(np.max(np.int32(x_offered * R_length / beta), axis = 0))\n",
    "        # print(to_learn)\n",
    "\n",
    "        # print(R_length)\n",
    "        # print(np.linalg.norm(p - p_opt), np.linalg.norm(p_w - p_opt))\n",
    "\n",
    "print(\"done\")"
   ]
  },
  {
   "cell_type": "code",
   "execution_count": 21,
   "id": "206047fd",
   "metadata": {},
   "outputs": [
    {
     "data": {
      "image/png": "[encoded data removed]",
      "text/plain": [
       "<Figure size 432x288 with 1 Axes>"
      ]
     },
     "metadata": {},
     "output_type": "display_data"
    }
   ],
   "source": [
    "for i in range(num_of_exp):\n",
    "    plt.plot(np.arange(T), rewards[i], label = exp_names[i])\n",
    "plt.legend()\n",
    "plt.show()"
   ]
  },
  {
   "cell_type": "code",
   "execution_count": 23,
   "id": "0232c455",
   "metadata": {},
   "outputs": [
    {
     "data": {
      "image/png": "[encoded data removed]",
      "text/plain": [
       "<Figure size 432x288 with 1 Axes>"
      ]
     },
     "metadata": {},
     "output_type": "display_data"
    }
   ],
   "source": [
    "for i in range(num_of_exp):\n",
    "    plt.plot(np.arange(T), np.cumsum(surplus_opt - rewards[i]), label = exp_names[i])\n",
    "plt.legend()\n",
    "plt.show()"
   ]
  },
  {
   "cell_type": "code",
   "execution_count": null,
   "id": "11eb646c",
   "metadata": {},
   "outputs": [],
   "source": []
  }
 ],
 "metadata": {
  "kernelspec": {
   "display_name": "Python 3",
   "language": "python",
   "name": "python3"
  },
  "language_info": {
   "codemirror_mode": {
    "name": "ipython",
    "version": 3
   },
   "file_extension": ".py",
   "mimetype": "text/x-python",
   "name": "python",
   "nbconvert_exporter": "python",
   "pygments_lexer": "ipython3",
   "version": "3.8.8"
  }
 },
 "nbformat": 4,
 "nbformat_minor": 5
}
